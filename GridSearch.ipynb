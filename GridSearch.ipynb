{
 "cells": [
  {
   "cell_type": "code",
   "execution_count": 1,
   "metadata": {},
   "outputs": [
    {
     "name": "stdout",
     "output_type": "stream",
     "text": [
      "Requirement already satisfied: xgboost in c:\\users\\yujian\\anaconda2\\envs\\ipykernel_py2\\lib\\site-packages (0.81)\n",
      "Requirement already satisfied: numpy in c:\\users\\yujian\\anaconda2\\envs\\ipykernel_py2\\lib\\site-packages (from xgboost) (1.15.2)\n",
      "Requirement already satisfied: scipy in c:\\users\\yujian\\anaconda2\\envs\\ipykernel_py2\\lib\\site-packages (from xgboost) (1.1.0)\n"
     ]
    }
   ],
   "source": [
    "import sys\n",
    "!{sys.executable} -m pip install xgboost\n",
    "import xgboost as xgb\n",
    "from sklearn.model_selection import train_test_split, KFold, GridSearchCV, cross_val_score\n",
    "from sklearn.pipeline import Pipeline\n",
    "from sklearn.preprocessing import RobustScaler\n",
    "from sklearn.impute import SimpleImputer\n",
    "import numpy as np\n",
    "import pandas as pd"
   ]
  },
  {
   "cell_type": "code",
   "execution_count": 2,
   "metadata": {},
   "outputs": [
    {
     "name": "stdout",
     "output_type": "stream",
     "text": [
      "First we fill in na numerical data and drop na nonnumerical data\n",
      "Index([u'LotFrontage', u'Alley', u'MasVnrType', u'MasVnrArea', u'BsmtQual',\n",
      "       u'BsmtCond', u'BsmtExposure', u'BsmtFinType1', u'BsmtFinType2',\n",
      "       u'Electrical', u'FireplaceQu', u'GarageType', u'GarageYrBlt',\n",
      "       u'GarageFinish', u'GarageQual', u'GarageCond', u'PoolQC', u'Fence',\n",
      "       u'MiscFeature'],\n",
      "      dtype='object')\n",
      "((1459, 64), (1460, 64), (1460L,))\n",
      "Index([u'Id', u'MSSubClass', u'MSZoning', u'LotFrontage', u'LotArea',\n",
      "       u'Street', u'LotShape', u'LandContour', u'Utilities', u'LotConfig',\n",
      "       u'LandSlope', u'Neighborhood', u'Condition1', u'Condition2',\n",
      "       u'BldgType', u'HouseStyle', u'OverallQual', u'OverallCond',\n",
      "       u'YearBuilt', u'YearRemodAdd', u'RoofStyle', u'RoofMatl',\n",
      "       u'Exterior1st', u'Exterior2nd', u'MasVnrArea', u'ExterQual',\n",
      "       u'ExterCond', u'Foundation', u'BsmtFinSF1', u'BsmtFinSF2', u'BsmtUnfSF',\n",
      "       u'TotalBsmtSF', u'Heating', u'HeatingQC', u'CentralAir', u'1stFlrSF',\n",
      "       u'2ndFlrSF', u'LowQualFinSF', u'GrLivArea', u'BsmtFullBath',\n",
      "       u'BsmtHalfBath', u'FullBath', u'HalfBath', u'BedroomAbvGr',\n",
      "       u'KitchenAbvGr', u'KitchenQual', u'TotRmsAbvGrd', u'Functional',\n",
      "       u'Fireplaces', u'GarageYrBlt', u'GarageCars', u'GarageArea',\n",
      "       u'PavedDrive', u'WoodDeckSF', u'OpenPorchSF', u'EnclosedPorch',\n",
      "       u'3SsnPorch', u'ScreenPorch', u'PoolArea', u'MiscVal', u'MoSold',\n",
      "       u'YrSold', u'SaleType', u'SaleCondition'],\n",
      "      dtype='object')\n"
     ]
    },
    {
     "data": {
      "text/plain": [
       "((1460, 205), (1459, 205))"
      ]
     },
     "execution_count": 2,
     "metadata": {},
     "output_type": "execute_result"
    }
   ],
   "source": [
    "train = pd.read_csv('train.csv')\n",
    "test = pd.read_csv('test.csv')\n",
    "print(\"First we fill in na numerical data and drop na nonnumerical data\")\n",
    "print(train.columns[train.isna().any()])\n",
    "train['LotFrontage'] = train['LotFrontage'].fillna(train['LotFrontage'].mean())\n",
    "train['MasVnrArea'] = train['MasVnrArea'].fillna(train['MasVnrArea'].mean())\n",
    "train['GarageYrBlt'] = train['GarageYrBlt'].fillna(train['GarageYrBlt'].mean())\n",
    "test['LotFrontage'] = test['LotFrontage'].fillna(test['LotFrontage'].mean())\n",
    "test['MasVnrArea'] = test['MasVnrArea'].fillna(test['MasVnrArea'].mean())\n",
    "test['GarageYrBlt'] = test['GarageYrBlt'].fillna(test['GarageYrBlt'].mean())\n",
    "train_empty = train.columns[train.isna().any()]\n",
    "test_empty = test.columns[test.isna().any()]\n",
    "X = train.drop(columns = ['SalePrice', 'Alley', 'MasVnrType', 'BsmtQual', 'BsmtCond', 'BsmtExposure', 'BsmtFinType1', 'BsmtFinType2', 'Electrical', 'FireplaceQu', 'GarageType', 'GarageFinish', 'GarageQual', 'GarageCond', 'PoolQC', 'Fence', 'MiscFeature'])\n",
    "y = train['SalePrice']\n",
    "X_true = test.drop(columns= [ 'Alley', 'MasVnrType', 'BsmtQual', 'BsmtCond', 'BsmtExposure', 'BsmtFinType1', 'BsmtFinType2', 'Electrical', 'FireplaceQu', 'GarageType', 'GarageFinish', 'GarageQual', 'GarageCond', 'PoolQC', 'Fence', 'MiscFeature'])\n",
    "print(X_true.shape, X.shape, y.shape)\n",
    "print(X_true.columns)\n",
    "one_hot_encoded_training_predictors = pd.get_dummies(X)\n",
    "one_hot_encoded_test_predictors = pd.get_dummies(X_true)\n",
    "X, X_true = one_hot_encoded_training_predictors.align(one_hot_encoded_test_predictors, join='inner', axis=1)\n",
    "X.shape, X_true.shape"
   ]
  },
  {
   "cell_type": "code",
   "execution_count": 10,
   "metadata": {},
   "outputs": [
    {
     "data": {
      "text/plain": [
       "((1241, 64), (1241L,), (219, 64), (219L,))"
      ]
     },
     "execution_count": 10,
     "metadata": {},
     "output_type": "execute_result"
    }
   ],
   "source": [
    "# X_train, X_2, y_train, y_2 = train_test_split(X, y, test_size=.15, random_state=9000)\n",
    "# X_train.shape, y_train.shape, X_2.shape, y_2.shape"
   ]
  },
  {
   "cell_type": "code",
   "execution_count": 3,
   "metadata": {},
   "outputs": [],
   "source": [
    "kf = KFold(n_splits = 5, random_state = 4)"
   ]
  },
  {
   "cell_type": "code",
   "execution_count": 4,
   "metadata": {},
   "outputs": [
    {
     "data": {
      "text/plain": [
       "['xgbr__subsample',\n",
       " 'xgbr__min_child_weight',\n",
       " 'xgbr__gamma',\n",
       " 'xgbr__max_depth',\n",
       " 'rb__copy',\n",
       " 'xgbr__colsample_bytree',\n",
       " 'xgbr__booster',\n",
       " 'xgbr__colsample_bylevel',\n",
       " 'xgbr__max_delta_step',\n",
       " 'xgbr',\n",
       " 'xgbr__random_state',\n",
       " 'imputer',\n",
       " 'imputer__verbose',\n",
       " 'xgbr__reg_alpha',\n",
       " 'rb__quantile_range',\n",
       " 'xgbr__scale_pos_weight',\n",
       " 'rb',\n",
       " 'memory',\n",
       " 'xgbr__seed',\n",
       " 'xgbr__silent',\n",
       " 'rb__with_centering',\n",
       " 'xgbr__base_score',\n",
       " 'imputer__fill_value',\n",
       " 'rb__with_scaling',\n",
       " 'xgbr__n_jobs',\n",
       " 'xgbr__objective',\n",
       " 'xgbr__reg_lambda',\n",
       " 'xgbr__nthread',\n",
       " 'xgbr__learning_rate',\n",
       " 'imputer__missing_values',\n",
       " 'xgbr__missing',\n",
       " 'imputer__strategy',\n",
       " 'steps',\n",
       " 'imputer__copy',\n",
       " 'xgbr__n_estimators']"
      ]
     },
     "execution_count": 4,
     "metadata": {},
     "output_type": "execute_result"
    }
   ],
   "source": [
    "imputer = SimpleImputer()\n",
    "rb = RobustScaler()\n",
    "xgbr = xgb.XGBRegressor()\n",
    "pipe = Pipeline([('imputer', imputer), ('rb', rb), ('xgbr', xgbr)])\n",
    "pipe.get_params().keys()"
   ]
  },
  {
   "cell_type": "code",
   "execution_count": 5,
   "metadata": {},
   "outputs": [
    {
     "data": {
      "text/plain": [
       "GridSearchCV(cv=KFold(n_splits=5, random_state=4, shuffle=False),\n",
       "       error_score='raise-deprecating',\n",
       "       estimator=Pipeline(memory=None,\n",
       "     steps=[('imputer', SimpleImputer(copy=True, fill_value=None, missing_values=nan, strategy='mean',\n",
       "       verbose=0)), ('rb', RobustScaler(copy=True, quantile_range=(25.0, 75.0), with_centering=True,\n",
       "       with_scaling=True)), ('xgbr', XGBRegressor(base_score=0.5, booster='gbtree', colsample_bylevel...\n",
       "       reg_alpha=0, reg_lambda=1, scale_pos_weight=1, seed=None,\n",
       "       silent=True, subsample=1))]),\n",
       "       fit_params=None, iid='warn', n_jobs=None,\n",
       "       param_grid={'imputer__strategy': ['median', 'mean'], 'xgbr__learning_rate': [0.03, 0.04, 0.05], 'xgbr__n_estimators': [800, 1000, 1200]},\n",
       "       pre_dispatch='2*n_jobs', refit=True, return_train_score='warn',\n",
       "       scoring=None, verbose=0)"
      ]
     },
     "execution_count": 5,
     "metadata": {},
     "output_type": "execute_result"
    }
   ],
   "source": [
    "param_grid = {'imputer__strategy' : ['median', 'mean'],\n",
    "              'xgbr__n_estimators' : [800, 1000, 1200],\n",
    "              'xgbr__learning_rate' : [0.03, 0.04, 0.05]\n",
    "               }\n",
    "gs = GridSearchCV(pipe, param_grid=param_grid, cv=kf)\n",
    "gs.fit(X, y)"
   ]
  },
  {
   "cell_type": "code",
   "execution_count": 7,
   "metadata": {},
   "outputs": [],
   "source": [
    "model = gs.best_estimator_\n",
    "model.fit(X, y)\n",
    "pred = model.predict(X_true)"
   ]
  },
  {
   "cell_type": "code",
   "execution_count": null,
   "metadata": {},
   "outputs": [],
   "source": [
    "mse_scores = -cross_val_score(model, X, y, cv=kf, scoring='neg_mean_squared_error')\n",
    "rmse_scores = mse_scores**0.5"
   ]
  },
  {
   "cell_type": "code",
   "execution_count": null,
   "metadata": {},
   "outputs": [],
   "source": [
    "print(pred)\n",
    "print(mse_scores, rmse_scores)"
   ]
  },
  {
   "cell_type": "code",
   "execution_count": null,
   "metadata": {},
   "outputs": [],
   "source": [
    "rmse_scores.mean(), rmse_scores.std()"
   ]
  },
  {
   "cell_type": "code",
   "execution_count": null,
   "metadata": {},
   "outputs": [],
   "source": [
    "predicted_prices = model.predict(X_true)"
   ]
  },
  {
   "cell_type": "code",
   "execution_count": null,
   "metadata": {},
   "outputs": [],
   "source": [
    "true_prices = pd.read_csv('sample_submission.csv')\n",
    "true_prices.SalePrice"
   ]
  },
  {
   "cell_type": "code",
   "execution_count": null,
   "metadata": {},
   "outputs": [],
   "source": [
    "len(predicted_prices)"
   ]
  },
  {
   "cell_type": "code",
   "execution_count": null,
   "metadata": {},
   "outputs": [],
   "source": [
    "X_true"
   ]
  },
  {
   "cell_type": "code",
   "execution_count": null,
   "metadata": {},
   "outputs": [],
   "source": [
    "true_prices.SalePrice - X_true"
   ]
  },
  {
   "cell_type": "code",
   "execution_count": null,
   "metadata": {},
   "outputs": [],
   "source": []
  }
 ],
 "metadata": {
  "kernelspec": {
   "display_name": "Python 2",
   "language": "python",
   "name": "python2"
  },
  "language_info": {
   "codemirror_mode": {
    "name": "ipython",
    "version": 2
   },
   "file_extension": ".py",
   "mimetype": "text/x-python",
   "name": "python",
   "nbconvert_exporter": "python",
   "pygments_lexer": "ipython2",
   "version": "2.7.15"
  }
 },
 "nbformat": 4,
 "nbformat_minor": 2
}
