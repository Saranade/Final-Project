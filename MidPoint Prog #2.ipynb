{
 "cells": [
  {
   "cell_type": "code",
   "execution_count": 108,
   "metadata": {},
   "outputs": [],
   "source": [
    "# imports\n",
    "import pandas as pd\n",
    "import matplotlib.pyplot as plt\n",
    "import numpy as np\n",
    "from sklearn.metrics import make_scorer\n",
    "from sklearn.linear_model import LinearRegression\n",
    "from sklearn.model_selection import cross_val_score, train_test_split\n",
    "from sklearn.metrics import r2_score, mean_squared_error\n",
    "from scipy import stats"
   ]
  },
  {
   "cell_type": "code",
   "execution_count": 109,
   "metadata": {},
   "outputs": [],
   "source": [
    "all_data = pd.read_csv('train.csv')\n",
    "\n",
    "trainables = all_data.filter(['OverallQual','GrLivArea','GarageCars','TotalBsmtSF','1stFlrSF','FullBath','YearBuilt'])"
   ]
  },
  {
   "cell_type": "code",
   "execution_count": 110,
   "metadata": {},
   "outputs": [
    {
     "data": {
      "text/html": [
       "<div>\n",
       "<style scoped>\n",
       "    .dataframe tbody tr th:only-of-type {\n",
       "        vertical-align: middle;\n",
       "    }\n",
       "\n",
       "    .dataframe tbody tr th {\n",
       "        vertical-align: top;\n",
       "    }\n",
       "\n",
       "    .dataframe thead th {\n",
       "        text-align: right;\n",
       "    }\n",
       "</style>\n",
       "<table border=\"1\" class=\"dataframe\">\n",
       "  <thead>\n",
       "    <tr style=\"text-align: right;\">\n",
       "      <th></th>\n",
       "      <th>Total</th>\n",
       "      <th>Percent</th>\n",
       "    </tr>\n",
       "  </thead>\n",
       "  <tbody>\n",
       "    <tr>\n",
       "      <th>YearBuilt</th>\n",
       "      <td>0</td>\n",
       "      <td>0.0</td>\n",
       "    </tr>\n",
       "    <tr>\n",
       "      <th>FullBath</th>\n",
       "      <td>0</td>\n",
       "      <td>0.0</td>\n",
       "    </tr>\n",
       "    <tr>\n",
       "      <th>1stFlrSF</th>\n",
       "      <td>0</td>\n",
       "      <td>0.0</td>\n",
       "    </tr>\n",
       "    <tr>\n",
       "      <th>TotalBsmtSF</th>\n",
       "      <td>0</td>\n",
       "      <td>0.0</td>\n",
       "    </tr>\n",
       "    <tr>\n",
       "      <th>GarageCars</th>\n",
       "      <td>0</td>\n",
       "      <td>0.0</td>\n",
       "    </tr>\n",
       "    <tr>\n",
       "      <th>GrLivArea</th>\n",
       "      <td>0</td>\n",
       "      <td>0.0</td>\n",
       "    </tr>\n",
       "    <tr>\n",
       "      <th>OverallQual</th>\n",
       "      <td>0</td>\n",
       "      <td>0.0</td>\n",
       "    </tr>\n",
       "  </tbody>\n",
       "</table>\n",
       "</div>"
      ],
      "text/plain": [
       "             Total  Percent\n",
       "YearBuilt        0      0.0\n",
       "FullBath         0      0.0\n",
       "1stFlrSF         0      0.0\n",
       "TotalBsmtSF      0      0.0\n",
       "GarageCars       0      0.0\n",
       "GrLivArea        0      0.0\n",
       "OverallQual      0      0.0"
      ]
     },
     "execution_count": 110,
     "metadata": {},
     "output_type": "execute_result"
    }
   ],
   "source": [
    "#missing data\n",
    "total = trainables.isnull().sum().sort_values(ascending=False)\n",
    "percent = (trainables.isnull().sum()/trainables.isnull().count()).sort_values(ascending=False)\n",
    "missing_data = pd.concat([total, percent], axis=1, keys=['Total', 'Percent'])\n",
    "missing_data.head(20)"
   ]
  },
  {
   "cell_type": "code",
   "execution_count": 112,
   "metadata": {},
   "outputs": [
    {
     "name": "stdout",
     "output_type": "stream",
     "text": [
      "0.8236935405836754\n"
     ]
    }
   ],
   "source": [
    "# model it\n",
    "\n",
    "# fix skewedness in Total Bsmt SF\n",
    "# all_data['HasBsmt'] = pd.Series(len(all_data['TotalBsmtSF']), index=all_data.index)\n",
    "# all_data['HasBsmt'] = 0 \n",
    "# all_data.loc[all_data['TotalBsmtSF']>0,'HasBsmt'] = 1\n",
    "# all_data.loc[all_data['HasBsmt']==1,'TotalBsmtSF'] = np.log(all_data['TotalBsmtSF'])\n",
    "    \n",
    "    \n",
    "# Log of GrLivArea, 1stFlrSF, YearBuilt\n",
    "all_data['GrLivArea'] = np.log(all_data['GrLivArea'])\n",
    "all_data['1stFlrSF'] = np.log(all_data['1stFlrSF'])\n",
    "all_data['YearBuilt'] = np.log(all_data['YearBuilt'])\n",
    "\n",
    "# collect data\n",
    "trainables = all_data.filter(['OverallQual','GrLivArea','GarageCars','TotalBsmtSF','1stFlrSF','FullBath','YearBuilt'])\n",
    "trainables = np.matrix(trainables)\n",
    "salePrice = np.array(all_data['SalePrice'])\n",
    "\n",
    "# No 0s, ints between 1-10\n",
    "# res = stats.probplot(all_data['OverallQual'], plot=plt)\n",
    "\n",
    "# No 0s, should log\n",
    "# res = stats.probplot(all_data['GrLivArea'], plot=plt)\n",
    "\n",
    "# Some 0s, no log\n",
    "# res = stats.probplot(all_data['GarageCars'], plot=plt)\n",
    "\n",
    "# Some 0s, need log\n",
    "# res = stats.probplot(all_data['TotalBsmtSF'], plot=plt)\n",
    "\n",
    "# No 0s, should log\n",
    "# res = stats.probplot(all_data['1stFlrSF'], plot=plt)\n",
    "\n",
    "# Some 0s, no log\n",
    "# res = stats.probplot(all_data['FullBath'], plot=plt)\n",
    "\n",
    "# No 0s, log\n",
    "# res = stats.probplot(all_data['YearBuilt'], plot=plt)\n",
    "\n",
    "n_folds = 5\n",
    "scorer = make_scorer(mean_squared_error,greater_is_better = False)\n",
    "\n",
    "x_train,x_test,y_train,y_test = train_test_split(trainables,salePrice,test_size = 0.3,random_state= 0)\n",
    "\n",
    "lr = LinearRegression()\n",
    "lr.fit(x_train,y_train)\n",
    "predictions = lr.predict(x_test)\n",
    "\n",
    "cross_val = cross_val_score(lr,x_test,y_test)\n",
    "rmse = np.sqrt(cross_val.mean())\n",
    "print(rmse)"
   ]
  },
  {
   "cell_type": "code",
   "execution_count": null,
   "metadata": {},
   "outputs": [],
   "source": []
  }
 ],
 "metadata": {
  "kernelspec": {
   "display_name": "Python 2",
   "language": "python",
   "name": "python2"
  },
  "language_info": {
   "codemirror_mode": {
    "name": "ipython",
    "version": 2
   },
   "file_extension": ".py",
   "mimetype": "text/x-python",
   "name": "python",
   "nbconvert_exporter": "python",
   "pygments_lexer": "ipython2",
   "version": "2.7.15"
  }
 },
 "nbformat": 4,
 "nbformat_minor": 2
}
