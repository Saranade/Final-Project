{
 "cells": [
  {
   "cell_type": "code",
   "execution_count": 2,
   "metadata": {},
   "outputs": [
    {
     "name": "stdout",
     "output_type": "stream",
     "text": [
      "Collecting xgboost\n",
      "  Using cached https://files.pythonhosted.org/packages/4f/4c/4969b10939c4557ae46e5569d07c0c7ce772b3d6b9c1401a6ed07059fdee/xgboost-0.81.tar.gz\n",
      "Requirement already satisfied: numpy in /Users/saranade/anaconda2/lib/python2.7/site-packages (from xgboost) (1.14.3)\n",
      "Requirement already satisfied: scipy in /Users/saranade/anaconda2/lib/python2.7/site-packages (from xgboost) (1.1.0)\n",
      "Building wheels for collected packages: xgboost\n",
      "  Running setup.py bdist_wheel for xgboost ... \u001b[?25ldone\n",
      "\u001b[?25h  Stored in directory: /Users/saranade/Library/Caches/pip/wheels/8a/89/0c/4870bb69132698f40889fa956f92e630a36c1fd7173fcc759f\n",
      "Successfully built xgboost\n",
      "\u001b[31mdistributed 1.21.8 requires msgpack, which is not installed.\u001b[0m\n",
      "\u001b[31mgrin 1.2.1 requires argparse>=1.1, which is not installed.\u001b[0m\n",
      "Installing collected packages: xgboost\n",
      "Successfully installed xgboost-0.81\n",
      "\u001b[33mYou are using pip version 10.0.1, however version 18.1 is available.\n",
      "You should consider upgrading via the 'pip install --upgrade pip' command.\u001b[0m\n"
     ]
    }
   ],
   "source": [
    "# imports\n",
    "!pip install xgboost\n",
    "import pandas as pd\n",
    "from xgboost import XGBRegressor\n",
    "import matplotlib.pyplot as plt\n",
    "import numpy as np\n",
    "from sklearn.metrics import make_scorer\n",
    "from sklearn.linear_model import LinearRegression\n",
    "from sklearn.model_selection import cross_val_score, train_test_split\n",
    "from sklearn.metrics import r2_score, mean_squared_error\n",
    "from scipy import stats"
   ]
  },
  {
   "cell_type": "code",
   "execution_count": 3,
   "metadata": {},
   "outputs": [],
   "source": [
    "all_data = pd.read_csv('train.csv')\n",
    "\n",
    "trainables = all_data.filter(['OverallQual','GrLivArea','GarageCars','TotalBsmtSF','1stFlrSF','FullBath','YearBuilt'])"
   ]
  },
  {
   "cell_type": "code",
   "execution_count": 4,
   "metadata": {},
   "outputs": [
    {
     "data": {
      "text/html": [
       "<div>\n",
       "<style scoped>\n",
       "    .dataframe tbody tr th:only-of-type {\n",
       "        vertical-align: middle;\n",
       "    }\n",
       "\n",
       "    .dataframe tbody tr th {\n",
       "        vertical-align: top;\n",
       "    }\n",
       "\n",
       "    .dataframe thead th {\n",
       "        text-align: right;\n",
       "    }\n",
       "</style>\n",
       "<table border=\"1\" class=\"dataframe\">\n",
       "  <thead>\n",
       "    <tr style=\"text-align: right;\">\n",
       "      <th></th>\n",
       "      <th>Total</th>\n",
       "      <th>Percent</th>\n",
       "    </tr>\n",
       "  </thead>\n",
       "  <tbody>\n",
       "    <tr>\n",
       "      <th>YearBuilt</th>\n",
       "      <td>0</td>\n",
       "      <td>0.0</td>\n",
       "    </tr>\n",
       "    <tr>\n",
       "      <th>FullBath</th>\n",
       "      <td>0</td>\n",
       "      <td>0.0</td>\n",
       "    </tr>\n",
       "    <tr>\n",
       "      <th>1stFlrSF</th>\n",
       "      <td>0</td>\n",
       "      <td>0.0</td>\n",
       "    </tr>\n",
       "    <tr>\n",
       "      <th>TotalBsmtSF</th>\n",
       "      <td>0</td>\n",
       "      <td>0.0</td>\n",
       "    </tr>\n",
       "    <tr>\n",
       "      <th>GarageCars</th>\n",
       "      <td>0</td>\n",
       "      <td>0.0</td>\n",
       "    </tr>\n",
       "    <tr>\n",
       "      <th>GrLivArea</th>\n",
       "      <td>0</td>\n",
       "      <td>0.0</td>\n",
       "    </tr>\n",
       "    <tr>\n",
       "      <th>OverallQual</th>\n",
       "      <td>0</td>\n",
       "      <td>0.0</td>\n",
       "    </tr>\n",
       "  </tbody>\n",
       "</table>\n",
       "</div>"
      ],
      "text/plain": [
       "             Total  Percent\n",
       "YearBuilt        0      0.0\n",
       "FullBath         0      0.0\n",
       "1stFlrSF         0      0.0\n",
       "TotalBsmtSF      0      0.0\n",
       "GarageCars       0      0.0\n",
       "GrLivArea        0      0.0\n",
       "OverallQual      0      0.0"
      ]
     },
     "execution_count": 4,
     "metadata": {},
     "output_type": "execute_result"
    }
   ],
   "source": [
    "#missing data\n",
    "total = trainables.isnull().sum().sort_values(ascending=False)\n",
    "percent = (trainables.isnull().sum()/trainables.isnull().count()).sort_values(ascending=False)\n",
    "missing_data = pd.concat([total, percent], axis=1, keys=['Total', 'Percent'])\n",
    "missing_data.head(20)"
   ]
  },
  {
   "cell_type": "code",
   "execution_count": 7,
   "metadata": {},
   "outputs": [
    {
     "name": "stdout",
     "output_type": "stream",
     "text": [
      "0.8235291237816716\n",
      "0.8380843685665583\n"
     ]
    }
   ],
   "source": [
    "# model it\n",
    "\n",
    "# fix skewedness in Total Bsmt SF\n",
    "# all_data['HasBsmt'] = pd.Series(len(all_data['TotalBsmtSF']), index=all_data.index)\n",
    "# all_data['HasBsmt'] = 0 \n",
    "# all_data.loc[all_data['TotalBsmtSF']>0,'HasBsmt'] = 1\n",
    "# all_data.loc[all_data['HasBsmt']==1,'TotalBsmtSF'] = np.log(all_data['TotalBsmtSF'])\n",
    "    \n",
    "    \n",
    "# Log of GrLivArea, 1stFlrSF, YearBuilt\n",
    "all_data['GrLivArea'] = np.log(all_data['GrLivArea'])\n",
    "all_data['1stFlrSF'] = np.log(all_data['1stFlrSF'])\n",
    "all_data['YearBuilt'] = np.log(all_data['YearBuilt'])\n",
    "\n",
    "# collect data\n",
    "trainables = all_data.filter(['OverallQual','GrLivArea','GarageCars','TotalBsmtSF','1stFlrSF','FullBath','YearBuilt'])\n",
    "trainables = np.matrix(trainables)\n",
    "salePrice = np.array(all_data['SalePrice'])\n",
    "\n",
    "# No 0s, ints between 1-10\n",
    "# res = stats.probplot(all_data['OverallQual'], plot=plt)\n",
    "\n",
    "# No 0s, should log\n",
    "# res = stats.probplot(all_data['GrLivArea'], plot=plt)\n",
    "\n",
    "# Some 0s, no log\n",
    "# res = stats.probplot(all_data['GarageCars'], plot=plt)\n",
    "\n",
    "# Some 0s, need log\n",
    "# res = stats.probplot(all_data['TotalBsmtSF'], plot=plt)\n",
    "\n",
    "# No 0s, should log\n",
    "# res = stats.probplot(all_data['1stFlrSF'], plot=plt)\n",
    "\n",
    "# Some 0s, no log\n",
    "# res = stats.probplot(all_data['FullBath'], plot=plt)\n",
    "\n",
    "# No 0s, log\n",
    "# res = stats.probplot(all_data['YearBuilt'], plot=plt)\n",
    "\n",
    "n_folds = 5\n",
    "scorer = make_scorer(mean_squared_error,greater_is_better = False)\n",
    "\n",
    "x_train,x_test,y_train,y_test = train_test_split(trainables,salePrice,test_size = 0.3,random_state= 0)\n",
    "\n",
    "lr = LinearRegression()\n",
    "lr.fit(x_train,y_train)\n",
    "predictions = lr.predict(x_test)\n",
    "\n",
    "gboost = XGBRegressor();\n",
    "gboost.fit(x_train, y_train, verbose=False)\n",
    "\n",
    "cross_val_boost = cross_val_score(gboost,x_test,y_test)\n",
    "rmse_boost = np.sqrt(cross_val_boost.mean())\n",
    "\n",
    "cross_val = cross_val_score(lr,x_test,y_test)\n",
    "rmse = np.sqrt(cross_val.mean())\n",
    "print(rmse)\n",
    "print(rmse_boost)"
   ]
  },
  {
   "cell_type": "code",
   "execution_count": null,
   "metadata": {},
   "outputs": [],
   "source": []
  }
 ],
 "metadata": {
  "kernelspec": {
   "display_name": "Python 2",
   "language": "python",
   "name": "python2"
  },
  "language_info": {
   "codemirror_mode": {
    "name": "ipython",
    "version": 2
   },
   "file_extension": ".py",
   "mimetype": "text/x-python",
   "name": "python",
   "nbconvert_exporter": "python",
   "pygments_lexer": "ipython2",
   "version": "2.7.15"
  }
 },
 "nbformat": 4,
 "nbformat_minor": 2
}
